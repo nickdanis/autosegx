{
 "cells": [
  {
   "cell_type": "markdown",
   "source": [
    "# Natural-class preserving structures with networkx\n",
    "Nick Danis / <nsdanis@wustl.edu> / www.nickdanis.com\n",
    "\n",
    "Supplemental material for *Natural class-preserving transductions among phonological representations*, presented at the Workshop on Model-Theoretic Representations in Phonology at Stony Brook University, September 22-24, 2022."
   ],
   "metadata": {}
  },
  {
   "cell_type": "code",
   "execution_count": 2,
   "source": [
    "import networkx as nx\r\n",
    "import pydot\r\n",
    "import re\r\n",
    "from networkx.drawing.nx_pydot import graphviz_layout\r\n",
    "from networkx.utils.misc import graphs_equal\r\n",
    "import networkx.algorithms.isomorphism as iso\r\n",
    "from itertools import chain, combinations\r\n",
    "from collections import defaultdict\r\n",
    "\r\n",
    "def powerset(iterable):\r\n",
    "    # from https://stackoverflow.com/questions/1482308/how-to-get-all-subsets-of-a-set-powerset\r\n",
    "    \"powerset([1,2,3]) --> () (1,) (2,) (3,) (1,2) (1,3) (2,3) (1,2,3)\"\r\n",
    "    s = list(iterable)\r\n",
    "    return chain.from_iterable(combinations(s, r) for r in range(len(s)+1))\r\n",
    "\r\n",
    "def nxify(theory):\r\n",
    "    nx_theory = dict()\r\n",
    "    for segment, rep in theory.items():\r\n",
    "        G = nx.DiGraph()\r\n",
    "        raw_nodes = list(set(chain(*rep)))\r\n",
    "        nodes = [(node, {'label' : re.sub(r'\\d+','',node)}) for node in raw_nodes]\r\n",
    "        G.add_nodes_from(nodes)\r\n",
    "        G.add_edges_from(list(rep))\r\n",
    "        nx_theory[segment] = G\r\n",
    "    return nx_theory\r\n",
    "\r\n",
    "def draw_phono(G):\r\n",
    "    '''draws graph as a tree'''\r\n",
    "    nx.draw_networkx(G,graphviz_layout(G,prog='dot'),node_color='white')\r\n",
    "\r\n",
    "def part_of_class(seg, natclass):\r\n",
    "    '''takes a segment and a factor\r\n",
    "    returns true if the induced subgraph of the segment with the nodes of that factor\r\n",
    "    is isomorphic to the natural class factor'''\r\n",
    "#     sub = seg.remove_nodes_from(n for n in seg if n not in natclass.nodes())\r\n",
    "#     return graphs_equal(sub,natclass)\r\n",
    "#     return graphs_equal(nx.subgraph(seg.to_undirected(),natclass.nodes()),natclass.to_undirected())\r\n",
    "#     return nx.is_isomorphic(nx.subgraph(seg.to_undirected(),natclass.nodes),natclass.to_undirected(),node_match=nm)\r\n",
    "    nm = iso.categorical_node_match(\"label\",'')\r\n",
    "    for fac in get_factors(seg):\r\n",
    "        if nx.is_isomorphic(fac,natclass,node_match=nm):\r\n",
    "            return True\r\n",
    "    return False\r\n",
    "\r\n",
    "\r\n",
    "def get_factors(G):\r\n",
    "    '''gets all connected subgraphs (factors) of some graph object'''\r\n",
    "    subgraph_nodes = [sub for sub in powerset(G.nodes()) if len(sub)>0]\r\n",
    "    subgraphs = []\r\n",
    "    for nodes in subgraph_nodes:\r\n",
    "        subgraph = nx.subgraph(G,nodes)\r\n",
    "        if nx.is_connected(subgraph.to_undirected()):\r\n",
    "            subgraphs.append(nx.subgraph(G,nodes))\r\n",
    "    return subgraphs\r\n",
    "\r\n",
    "def get_theory_factors(nx_theory):\r\n",
    "    '''collects all (unique) factors across all segments in a theory'''\r\n",
    "    all_factors = []\r\n",
    "    unique_factors = []\r\n",
    "    for seg in nx_theory.keys():\r\n",
    "        for fac in get_factors(nx_theory[seg]):\r\n",
    "            all_factors.append(fac)\r\n",
    "    for fac in all_factors:\r\n",
    "        if len(unique_factors) == 0:\r\n",
    "            unique_factors.append(fac)\r\n",
    "        else:\r\n",
    "            equal_to = []\r\n",
    "            for f in unique_factors:\r\n",
    "                if graphs_equal(f,fac):\r\n",
    "                    equal_to.append(f)\r\n",
    "            if len(equal_to) == 0:\r\n",
    "                unique_factors.append(fac)\r\n",
    "    return unique_factors\r\n",
    "\r\n",
    "def find_natural_classes(nx_theory):\r\n",
    "    '''finds the segments that all share some factor in a theory'''\r\n",
    "    natural_classes = defaultdict(list)\r\n",
    "    for fac in get_theory_factors(nx_theory):\r\n",
    "        for seg in nx_theory.keys():\r\n",
    "            if part_of_class(nx_theory[seg],fac):\r\n",
    "                natural_classes[fac].append(seg)\r\n",
    "    return natural_classes\r\n",
    "\r\n",
    "def make_nce_dict(nx_theory):\r\n",
    "    nce_dict = defaultdict(list)\r\n",
    "    natural_classes = find_natural_classes(nx_theory)\r\n",
    "    for key, value in natural_classes.items():\r\n",
    "        nce_dict[tuple(sorted(value))].append(key)\r\n",
    "    return nce_dict\r\n",
    "\r\n",
    "def compare_theories(nx_theory_a, nx_theory_b, verbose=False):\r\n",
    "    nce_dict_a = make_nce_dict(nx_theory_a)\r\n",
    "    nce_dict_b = make_nce_dict(nx_theory_b)\r\n",
    "    print(f\"Natural classes unique to theory a:\")\r\n",
    "    unique_a = nce_dict_a.keys() - nce_dict_b.keys()\r\n",
    "    for nce in unique_a:\r\n",
    "        print(nce)\r\n",
    "        if verbose:\r\n",
    "            print('Shared factors:')\r\n",
    "            for fac in nce_dict_a[nce]:\r\n",
    "                print(fac.nodes, fac.edges)\r\n",
    "    print(f\"Natural classes unique to theory b:\")\r\n",
    "    unique_b = nce_dict_b.keys() - nce_dict_a.keys()\r\n",
    "    for nce in unique_b:\r\n",
    "        print(nce)\r\n",
    "        if verbose:\r\n",
    "            print('Shared factors:')\r\n",
    "            for fac in nce_dict_b[nce]:\r\n",
    "                print(fac.nodes, fac.edges)\r\n",
    "    print(\"Natural classes in common:\")\r\n",
    "    common = nce_dict_a.keys() & nce_dict_b.keys()\r\n",
    "    for nce in common:\r\n",
    "        print(nce)\r\n",
    "    return nce_dict_a, nce_dict_b"
   ],
   "outputs": [],
   "metadata": {}
  },
  {
   "cell_type": "markdown",
   "source": [
    "## Oakden 2021"
   ],
   "metadata": {}
  },
  {
   "cell_type": "code",
   "execution_count": 3,
   "source": [
    "\r\n",
    "yip = {\r\n",
    "    'L' : {('s','-u'), ('-u','l')},\r\n",
    "    'H' : {('s','+u'), ('+u','h')},\r\n",
    "    'M1' : {('s','-u'), ('-u','h')},\r\n",
    "    'M2' : {('s','+u'), ('+u','l')},\r\n",
    "    'HM' : {('s','+u'), ('+u','h'), ('+u','l')},\r\n",
    "    'MH' : {('s','+u'), ('+u','l'), ('+u','h')},\r\n",
    "    'ML' : {('s','-u'), ('-u','l'), ('-u','h')},\r\n",
    "    'LM' : {('s','-u'), ('-u','l'), ('-u','h')}\r\n",
    "}\r\n",
    "\r\n",
    "bao = {\r\n",
    "    'L' : {('s','T'), ('T','-u'), ('T','c'), ('c','l')},\r\n",
    "    'H' : {('s','T'), ('T','+u'), ('T','c'), ('c','h')},\r\n",
    "    'M1' : {('s','T'), ('T','-u'), ('T','c'), ('c','h')},\r\n",
    "    'M2' : {('s','T'), ('T','+u'), ('T','c'), ('c','l')},\r\n",
    "    'HM' : {('s','T'), ('T','+u'), ('T','c'), ('c','h'), ('c','l')},\r\n",
    "    'MH' : {('s','T'), ('T','+u'), ('T','c'), ('c','h'), ('c','l')},\r\n",
    "    'ML' : {('s','T'), ('T','-u'), ('T','c'), ('c','h'), ('c','l')},\r\n",
    "    'LM' : {('s','T'), ('T','-u'), ('T','c'), ('c','h'), ('c','l')},\r\n",
    "}\r\n",
    "\r\n",
    "yip_nx = nxify(yip)\r\n",
    "bao_nx = nxify(bao)"
   ],
   "outputs": [],
   "metadata": {}
  },
  {
   "cell_type": "code",
   "execution_count": 5,
   "source": [
    "bao_nx['H'].factors"
   ],
   "outputs": [
    {
     "output_type": "error",
     "ename": "AttributeError",
     "evalue": "'DiGraph' object has no attribute 'factors'",
     "traceback": [
      "\u001b[1;31m---------------------------------------------------------------------------\u001b[0m",
      "\u001b[1;31mAttributeError\u001b[0m                            Traceback (most recent call last)",
      "\u001b[1;32m<ipython-input-5-6eea961fbc54>\u001b[0m in \u001b[0;36m<module>\u001b[1;34m\u001b[0m\n\u001b[1;32m----> 1\u001b[1;33m \u001b[0mbao_nx\u001b[0m\u001b[1;33m[\u001b[0m\u001b[1;34m'H'\u001b[0m\u001b[1;33m]\u001b[0m\u001b[1;33m.\u001b[0m\u001b[0mfactors\u001b[0m\u001b[1;33m\u001b[0m\u001b[1;33m\u001b[0m\u001b[0m\n\u001b[0m",
      "\u001b[1;31mAttributeError\u001b[0m: 'DiGraph' object has no attribute 'factors'"
     ]
    }
   ],
   "metadata": {}
  },
  {
   "cell_type": "code",
   "execution_count": null,
   "source": [
    "nx.is_isomorphic(bao_nx['L'],bao_nx['H'])"
   ],
   "outputs": [],
   "metadata": {}
  },
  {
   "cell_type": "code",
   "execution_count": null,
   "source": [
    "nce_yip, nce_bao = compare_theories(yip_nx, bao_nx,verbose=True)"
   ],
   "outputs": [],
   "metadata": {}
  },
  {
   "cell_type": "code",
   "execution_count": null,
   "source": [
    "draw_phono(nce_bao[('HM', 'LM', 'MH', 'ML')][2])"
   ],
   "outputs": [],
   "metadata": {}
  },
  {
   "cell_type": "code",
   "execution_count": null,
   "source": [
    "# print(nx.nx_pydot.write_dot(G,'test.gv'))"
   ],
   "outputs": [],
   "metadata": {}
  },
  {
   "cell_type": "markdown",
   "source": [
    "## Place, full specification, all combos"
   ],
   "metadata": {}
  },
  {
   "cell_type": "code",
   "execution_count": null,
   "source": [
    "unified_f = {\n",
    "    'p' : {('rt','Cpl'), ('Cpl','+lab'), ('Cpl','-dors'), ('Cpl','-cor'), ('rt','Vpl'), ('Vpl','-lab'), ('Vpl','-dors'), ('Vpl','-cor')},\n",
    "    't' : {('rt','Cpl'), ('Cpl','-lab'), ('Cpl','-dors'), ('Cpl','+cor'), ('rt','Vpl'), ('Vpl','-lab'), ('Vpl','-dors'), ('Vpl','-cor')},\n",
    "    'k' : {('rt','Cpl'), ('Cpl','-lab'), ('Cpl','+dors'), ('Cpl','-cor'), ('rt','Vpl'), ('Vpl','-lab'), ('Vpl','-dors'), ('Vpl','-cor')},\n",
    "    'pw' : {('rt','Cpl'), ('Cpl','+lab'), ('Cpl','-dors'), ('Cpl','-cor'), ('rt','Vpl'), ('Vpl','+lab'), ('Vpl','-dors'), ('Vpl','-cor')},\n",
    "    'tw' : {('rt','Cpl'), ('Cpl','-lab'), ('Cpl','-dors'), ('Cpl','+cor'), ('rt','Vpl'), ('Vpl','+lab'), ('Vpl','-dors'), ('Vpl','-cor')},\n",
    "    'kw' : {('rt','Cpl'), ('Cpl','-lab'), ('Cpl','+dors'), ('Cpl','-cor'), ('rt','Vpl'), ('Vpl','+lab'), ('Vpl','-dors'), ('Vpl','-cor')},\n",
    "    'pj' : {('rt','Cpl'), ('Cpl','+lab'), ('Cpl','-dors'), ('Cpl','-cor'), ('rt','Vpl'), ('Vpl','-lab'), ('Vpl','-dors'), ('Vpl','+cor')},\n",
    "    'tj' : {('rt','Cpl'), ('Cpl','-lab'), ('Cpl','-dors'), ('Cpl','+cor'), ('rt','Vpl'), ('Vpl','-lab'), ('Vpl','-dors'), ('Vpl','+cor')},\n",
    "    'kj' : {('rt','Cpl'), ('Cpl','-lab'), ('Cpl','+dors'), ('Cpl','-cor'), ('rt','Vpl'), ('Vpl','-lab'), ('Vpl','-dors'), ('Vpl','+cor')},\n",
    "    'pɣ' : {('rt','Cpl'), ('Cpl','+lab'), ('Cpl','-dors'), ('Cpl','-cor'), ('rt','Vpl'), ('Vpl','-lab'), ('Vpl','+dors'), ('Vpl','-cor')},\n",
    "    'tɣ' : {('rt','Cpl'), ('Cpl','-lab'), ('Cpl','-dors'), ('Cpl','+cor'), ('rt','Vpl'), ('Vpl','-lab'), ('Vpl','+dors'), ('Vpl','-cor')},\n",
    "    'kɣ' : {('rt','Cpl'), ('Cpl','-lab'), ('Cpl','+dors'), ('Cpl','-cor'), ('rt','Vpl'), ('Vpl','-lab'), ('Vpl','+dors'), ('Vpl','-cor')},\n",
    "    'kp' : {('rt','Cpl'), ('Cpl','+lab'), ('Cpl','+dors'), ('Cpl','-cor'), ('rt','Vpl'), ('Vpl','-lab'), ('Vpl','-dors'), ('Vpl','-cor')},\n",
    "    'tp' : {('rt','Cpl'), ('Cpl','+lab'), ('Cpl','-dors'), ('Cpl','+cor'), ('rt','Vpl'), ('Vpl','-lab'), ('Vpl','-dors'), ('Vpl','-cor')},\n",
    "    'kt' : {('rt','Cpl'), ('Cpl','-lab'), ('Cpl','+dors'), ('Cpl','+cor'), ('rt','Vpl'), ('Vpl','-lab'), ('Vpl','-dors'), ('Vpl','-cor')},\n",
    "    'y' : {('rt','Cpl'), ('Cpl','-lab'), ('Cpl','-dors'), ('Cpl','-cor'), ('rt','Vpl'), ('Vpl','+lab'), ('Vpl','-dors'), ('Vpl','+cor')}, \n",
    "    'ʉ' : {('rt','Cpl'), ('Cpl','-lab'), ('Cpl','-dors'), ('Cpl','-cor'), ('rt','Vpl'), ('Vpl','+lab'), ('Vpl','-dors'), ('Vpl','-cor')},\n",
    "    'u' : {('rt','Cpl'), ('Cpl','-lab'), ('Cpl','-dors'), ('Cpl','-cor'), ('rt','Vpl'), ('Vpl','+lab'), ('Vpl','+dors'), ('Vpl','-cor')},\n",
    "    'i' : {('rt','Cpl'), ('Cpl','-lab'), ('Cpl','-dors'), ('Cpl','-cor'), ('rt','Vpl'), ('Vpl','-lab'), ('Vpl','-dors'), ('Vpl','+cor')},\n",
    "    'ɨ' : {('rt','Cpl'), ('Cpl','-lab'), ('Cpl','-dors'), ('Cpl','-cor'), ('rt','Vpl'), ('Vpl','-lab'), ('Vpl','-dors'), ('Vpl','-cor')},\n",
    "    'ɯ' : {('rt','Cpl'), ('Cpl','-lab'), ('Cpl','-dors'), ('Cpl','-cor'), ('rt','Vpl'), ('Vpl','-lab'), ('Vpl','+dors'), ('Vpl','-cor')},\n",
    "}\n",
    "\n",
    "v_features_f = {\n",
    "    'p' : {('rt','Pl'), ('Pl','+lab'), ('Pl','-dors'), ('Pl','-cor'), ('rt','-rnd'), ('rt','-bck'), ('rt','-frnt')},\n",
    "    't' : {('rt','Pl'), ('Pl','-lab'), ('Pl','-dors'), ('Pl','+cor'), ('rt','-rnd'), ('rt','-bck'), ('rt','-frnt')},\n",
    "    'k' : {('rt','Pl'), ('Pl','-lab'), ('Pl','+dors'), ('Pl','-cor'), ('rt','-rnd'), ('rt','-bck'), ('rt','-frnt')},\n",
    "    'pw' : {('rt','Pl'), ('Pl','+lab'), ('Pl','-dors'), ('Pl','-cor'), ('rt','+rnd'), ('rt','-bck'), ('rt','-frnt')},\n",
    "    'tw' : {('rt','Pl'), ('Pl','-lab'), ('Pl','-dors'), ('Pl','+cor'), ('rt','+rnd'), ('rt','-bck'), ('rt','-frnt')},\n",
    "    'kw' : {('rt','Pl'), ('Pl','-lab'), ('Pl','+dors'), ('Pl','-cor'), ('rt','+rnd'), ('rt','-bck'), ('rt','-frnt')},\n",
    "    'pj' : {('rt','Pl'), ('Pl','+lab'), ('Pl','-dors'), ('Pl','-cor'), ('rt','-rnd'), ('rt','-bck'), ('rt','+frnt')},\n",
    "    'tj' : {('rt','Pl'), ('Pl','-lab'), ('Pl','-dors'), ('Pl','+cor'), ('rt','-rnd'), ('rt','-bck'), ('rt','+frnt')},\n",
    "    'kj' : {('rt','Pl'), ('Pl','-lab'), ('Pl','+dors'), ('Pl','-cor'), ('rt','-rnd'), ('rt','-bck'), ('rt','+frnt')},\n",
    "    'pɣ' : {('rt','Pl'), ('Pl','+lab'), ('Pl','-dors'), ('Pl','-cor'), ('rt','-rnd'), ('rt','+bck'), ('rt','-frnt')},\n",
    "    'tɣ' : {('rt','Pl'), ('Pl','-lab'), ('Pl','-dors'), ('Pl','+cor'), ('rt','-rnd'), ('rt','+bck'), ('rt','-frnt')},\n",
    "    'kɣ' : {('rt','Pl'), ('Pl','-lab'), ('Pl','+dors'), ('Pl','-cor'), ('rt','-rnd'), ('rt','+bck'), ('rt','-frnt')},\n",
    "    'kp' : {('rt','Pl'), ('Pl','+lab'), ('Pl','+dors'), ('Pl','-cor'), ('rt','-rnd'), ('rt','-bck'), ('rt','-frnt')},\n",
    "    'tp' : {('rt','Pl'), ('Pl','+lab'), ('Pl','-dors'), ('Pl','+cor'), ('rt','-rnd'), ('rt','-bck'), ('rt','-frnt')},\n",
    "    'kt' : {('rt','Pl'), ('Pl','-lab'), ('Pl','+dors'), ('Pl','+cor'), ('rt','-rnd'), ('rt','-bck'), ('rt','-frnt')},\n",
    "    'y' : {('rt','Pl'), ('Pl','-lab'), ('Pl','-dors'), ('Pl','-cor'), ('rt','+rnd'), ('rt','-bck'), ('rt','+frnt')}, \n",
    "    'ʉ' : {('rt','Pl'), ('Pl','-lab'), ('Pl','-dors'), ('Pl','-cor'), ('rt','+rnd'), ('rt','-bck'), ('rt','-frnt')},\n",
    "    'u' : {('rt','Pl'), ('Pl','-lab'), ('Pl','-dors'), ('Pl','-cor'), ('rt','+rnd'), ('rt','+bck'), ('rt','-frnt')},\n",
    "    'i' : {('rt','Pl'), ('Pl','-lab'), ('Pl','-dors'), ('Pl','-cor'), ('rt','-rnd'), ('rt','-bck'), ('rt','+frnt')},\n",
    "    'ɨ' : {('rt','Pl'), ('Pl','-lab'), ('Pl','-dors'), ('Pl','-cor'), ('rt','-rnd'), ('rt','-bck'), ('rt','-frnt')},\n",
    "    'ɯ' : {('rt','Pl'), ('Pl','-lab'), ('Pl','-dors'), ('Pl','-cor'), ('rt','-rnd'), ('rt','+bck'), ('rt','-frnt')},\n",
    "}"
   ],
   "outputs": [],
   "metadata": {}
  },
  {
   "cell_type": "code",
   "execution_count": null,
   "source": [
    "unified_nx = nxify(unified_f)\n",
    "v_features_nx = nxify(v_features_f)"
   ],
   "outputs": [],
   "metadata": {}
  },
  {
   "cell_type": "code",
   "execution_count": null,
   "source": [
    "nce_unified, nce_v_features = compare_theories(unified_nx, v_features_nx, verbose=True)"
   ],
   "outputs": [],
   "metadata": {}
  },
  {
   "cell_type": "markdown",
   "source": [
    "## 4 segment, full specification"
   ],
   "metadata": {}
  },
  {
   "cell_type": "code",
   "execution_count": null,
   "source": [
    "unified_s = {\n",
    "    'p' : {('rt','Cpl'), ('Cpl','+lab'), ('Cpl','-dors'), ('Cpl','-cor'), ('rt','Vpl'), ('Vpl','-lab2'), ('Vpl','-dors2'), ('Vpl','-cor2')},\n",
    "    't' : {('rt','Cpl'), ('Cpl','-lab'), ('Cpl','-dors'), ('Cpl','+cor'), ('rt','Vpl'), ('Vpl','-lab2'), ('Vpl','-dors2'), ('Vpl','-cor2')},\n",
    "    'pw' : {('rt','Cpl'), ('Cpl','+lab'), ('Cpl','-dors'), ('Cpl','-cor'), ('rt','Vpl'), ('Vpl','+lab2'), ('Vpl','-dors2'), ('Vpl','-cor2')},\n",
    "    'u' : {('rt','Cpl'), ('Cpl','-lab'), ('Cpl','-dors'), ('Cpl','-cor'), ('rt','Vpl'), ('Vpl','+lab2'), ('Vpl','+dors2'), ('Vpl','-cor2')},\n",
    "}\n",
    "\n",
    "v_features_s = {\n",
    "    'p' : {('rt','Pl'), ('Pl','+lab'), ('Pl','-dors'), ('Pl','-cor'), ('rt','-rnd'), ('rt','-bck'), ('rt','-frnt')},\n",
    "    't' : {('rt','Pl'), ('Pl','-lab'), ('Pl','-dors'), ('Pl','+cor'), ('rt','-rnd'), ('rt','-bck'), ('rt','-frnt')},\n",
    "    'pw' : {('rt','Pl'), ('Pl','+lab'), ('Pl','-dors'), ('Pl','-cor'), ('rt','+rnd'), ('rt','-bck'), ('rt','-frnt')},\n",
    "    'u' : {('rt','Pl'), ('Pl','-lab'), ('Pl','-dors'), ('Pl','-cor'), ('rt','+rnd'), ('rt','+bck'), ('rt','-frnt')},\n",
    "}"
   ],
   "outputs": [],
   "metadata": {}
  },
  {
   "cell_type": "code",
   "execution_count": null,
   "source": [
    "unified_s_nx = nxify(unified_s)\n",
    "v_features_s_nx = nxify(v_features_s)"
   ],
   "outputs": [],
   "metadata": {}
  },
  {
   "cell_type": "code",
   "execution_count": null,
   "source": [
    "nce_unified_f, nce_v_features_f = compare_theories(unified_s_nx,v_features_s_nx,verbose=True)"
   ],
   "outputs": [],
   "metadata": {}
  },
  {
   "cell_type": "code",
   "execution_count": null,
   "source": [
    "draw_phono(nce_v_features_f[('p', 'pw', 'u')][6])"
   ],
   "outputs": [],
   "metadata": {}
  },
  {
   "cell_type": "markdown",
   "source": [
    "### no unique nodes"
   ],
   "metadata": {}
  },
  {
   "cell_type": "code",
   "execution_count": null,
   "source": [
    "unified_s = {\n",
    "    'p' : {('rt','Cpl'), ('Cpl','+lab'), ('Cpl','-dors'), ('Cpl','-cor'), ('rt','Vpl'), ('Vpl','-lab'), ('Vpl','-dors'), ('Vpl','-cor')},\n",
    "    't' : {('rt','Cpl'), ('Cpl','-lab'), ('Cpl','-dors'), ('Cpl','+cor'), ('rt','Vpl'), ('Vpl','-lab'), ('Vpl','-dors'), ('Vpl','-cor')},\n",
    "    'pw' : {('rt','Cpl'), ('Cpl','+lab'), ('Cpl','-dors'), ('Cpl','-cor'), ('rt','Vpl'), ('Vpl','+lab'), ('Vpl','-dors'), ('Vpl','-cor')},\n",
    "    'u' : {('rt','Cpl'), ('Cpl','-lab'), ('Cpl','-dors'), ('Cpl','-cor'), ('rt','Vpl'), ('Vpl','+lab'), ('Vpl','+dors'), ('Vpl','-cor')},\n",
    "}\n",
    "\n",
    "v_features_s = {\n",
    "    'p' : {('rt','Pl'), ('Pl','+lab'), ('Pl','-dors'), ('Pl','-cor'), ('rt','-rnd'), ('rt','-bck'), ('rt','-frnt')},\n",
    "    't' : {('rt','Pl'), ('Pl','-lab'), ('Pl','-dors'), ('Pl','+cor'), ('rt','-rnd'), ('rt','-bck'), ('rt','-frnt')},\n",
    "    'pw' : {('rt','Pl'), ('Pl','+lab'), ('Pl','-dors'), ('Pl','-cor'), ('rt','+rnd'), ('rt','-bck'), ('rt','-frnt')},\n",
    "    'u' : {('rt','Pl'), ('Pl','-lab'), ('Pl','-dors'), ('Pl','-cor'), ('rt','+rnd'), ('rt','+bck'), ('rt','-frnt')},\n",
    "}"
   ],
   "outputs": [],
   "metadata": {}
  },
  {
   "cell_type": "code",
   "execution_count": null,
   "source": [
    "unified_s_nx = nxify(unified_s)\n",
    "v_features_s_nx = nxify(v_features_s)"
   ],
   "outputs": [],
   "metadata": {}
  },
  {
   "cell_type": "code",
   "execution_count": null,
   "source": [
    "nce_unified_d, nce_v_features_d = compare_theories(unified_s_nx,v_features_s_nx,verbose=True)"
   ],
   "outputs": [],
   "metadata": {}
  },
  {
   "cell_type": "markdown",
   "source": [
    "relabel nodes? https://networkx.org/documentation/stable/reference/generated/networkx.relabel.relabel_nodes.html"
   ],
   "metadata": {}
  },
  {
   "cell_type": "code",
   "execution_count": null,
   "source": [
    "unified_p = {\n",
    "    'p' : {('rt','Cpl'), ('Cpl','lab')},\n",
    "    't' : {('rt','Cpl'), ('Cpl','cor')},\n",
    "    'u' : {('rt','Vpl'), ('Vpl','lab')},\n",
    "    'pw' : {('rt','Cpl'), ('Cpl','lab'), ('rt','Vpl'), ('Vpl','lab')},\n",
    "    \n",
    "}\n",
    "\n",
    "v_features_p = {\n",
    "    'p' : {('rt','Pl'), ('Pl','lab'), ('rt','-rnd')},\n",
    "    't' : {('rt','Pl'), ('Pl','cor'), ('rt','-rnd')},\n",
    "    'pw' : {('rt','Pl'), ('Pl','lab'), ('rt','+rnd')},\n",
    "    'u' : {('rt','+rnd')},\n",
    "}\n",
    "\n",
    "unified_p_nx = nxify(unified_p)\n",
    "v_features_p_nx = nxify(v_features_p)\n",
    "\n",
    "nce_unified, nce_v = compare_theories(unified_p_nx, v_features_p_nx, verbose=True)"
   ],
   "outputs": [],
   "metadata": {}
  },
  {
   "cell_type": "code",
   "execution_count": null,
   "source": [
    "draw_phono(nce_unified[('p', 'pw', 'u')][0])"
   ],
   "outputs": [],
   "metadata": {}
  },
  {
   "cell_type": "code",
   "execution_count": null,
   "source": [
    "draw_phono(nce_v[('p', 't')][1])"
   ],
   "outputs": [],
   "metadata": {}
  },
  {
   "cell_type": "code",
   "execution_count": null,
   "source": [],
   "outputs": [],
   "metadata": {}
  }
 ],
 "metadata": {
  "kernelspec": {
   "name": "python3",
   "display_name": "Python 3.7.6 64-bit"
  },
  "language_info": {
   "codemirror_mode": {
    "name": "ipython",
    "version": 3
   },
   "file_extension": ".py",
   "mimetype": "text/x-python",
   "name": "python",
   "nbconvert_exporter": "python",
   "pygments_lexer": "ipython3",
   "version": "3.7.6"
  },
  "interpreter": {
   "hash": "89550c41512397be3b92a88a74e3b1e8549c4151dd6ce085be64a8e2e8a2e248"
  }
 },
 "nbformat": 4,
 "nbformat_minor": 4
}