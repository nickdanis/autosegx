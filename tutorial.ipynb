{
 "cells": [
  {
   "cell_type": "markdown",
   "metadata": {},
   "source": [
    "## **importing**"
   ]
  },
  {
   "cell_type": "code",
   "execution_count": 1,
   "metadata": {},
   "outputs": [],
   "source": [
    "import autosegx as ax"
   ]
  },
  {
   "cell_type": "markdown",
   "metadata": {},
   "source": [
    "## **defining each theory**\n",
    "\n",
    "follow the example below. each Theory is a dictionary, with the whatever atomic label as the key (usually IPA) and a set of tuples (the graph nodes and edges) as the value. if you need to have multiple nodes with the same label, you can add a number at the end, so that `('r','n1')` and `('r','n2')` refer to 3 unique nodes, but in parsing the Theory, autosegx will ignore the numeral for the node label so that for calculations that depend only on label (like finding natural classes), both nodes are effectively `'n'`."
   ]
  },
  {
   "cell_type": "code",
   "execution_count": 2,
   "metadata": {},
   "outputs": [],
   "source": [
    "yip = {\n",
    "    'L' : {('s','-u'), ('-u','l')},\n",
    "    'H' : {('s','+u'), ('+u','h')},\n",
    "    'M1' : {('s','-u'), ('-u','h')},\n",
    "    'M2' : {('s','+u'), ('+u','l')},\n",
    "    'HM' : {('s','+u'), ('+u','h'), ('+u','l')},\n",
    "    'MH' : {('s','+u'), ('+u','l'), ('+u','h')},\n",
    "    'ML' : {('s','-u'), ('-u','l'), ('-u','h')},\n",
    "    'LM' : {('s','-u'), ('-u','l'), ('-u','h')}\n",
    "}\n",
    "\n",
    "bao = {\n",
    "    'L' : {('s','T'), ('T','-u'), ('T','c'), ('c','l')},\n",
    "    'H' : {('s','T'), ('T','+u'), ('T','c'), ('c','h')},\n",
    "    'M1' : {('s','T'), ('T','-u'), ('T','c'), ('c','h')},\n",
    "    'M2' : {('s','T'), ('T','+u'), ('T','c'), ('c','l')},\n",
    "    'HM' : {('s','T'), ('T','+u'), ('T','c'), ('c','h'), ('c','l')},\n",
    "    'MH' : {('s','T'), ('T','+u'), ('T','c'), ('c','h'), ('c','l')},\n",
    "    'ML' : {('s','T'), ('T','-u'), ('T','c'), ('c','h'), ('c','l')},\n",
    "    'LM' : {('s','T'), ('T','-u'), ('T','c'), ('c','h'), ('c','l')},\n",
    "}"
   ]
  },
  {
   "cell_type": "code",
   "execution_count": 3,
   "metadata": {},
   "outputs": [],
   "source": [
    "yip_x = ax.Theory(yip, name = 'Yip')\n",
    "\n",
    "bao_x = ax.Theory(bao, name = 'Bao')\n"
   ]
  },
  {
   "cell_type": "code",
   "execution_count": 7,
   "metadata": {},
   "outputs": [
    {
     "name": "stdout",
     "output_type": "stream",
     "text": [
      "The theories are NOT natural class preserving.\n",
      "\n",
      "0 natural class(es) unique to Yip.\n",
      "\n",
      "1 natural class(es) unique to Bao.\n",
      "\t1. [ HM LM MH ML ]\n",
      "\t\tDefining factors:\n",
      "\t\t(1) c -> l, c -> h\n",
      "\t\t(2) T -> c, c -> l, c -> h\n",
      "\t\t(3) T -> c, s -> T, c -> l, c -> h\n",
      "\n",
      "11 natural class(es) shared.\n",
      "\t1. [ LM M1 ML ]\n",
      "\t\tDefining factors:\n",
      "\t\t(1-1) -u -> h\n",
      "\t\t(1-2) -u -> h, s -> -u\n",
      "\t\t(2-1) T -> -u, T -> c, c -> h\n",
      "\t\t(2-2) T -> -u, T -> c, s -> T, c -> h\n",
      "\t2. [ HM L LM M2 MH ML ]\n",
      "\t\tDefining factors:\n",
      "\t\t(1-1) l\n",
      "\t\t(2-1) l\n",
      "\t\t(2-2) c -> l\n",
      "\t\t(2-3) T -> c, c -> l\n",
      "\t\t(2-4) T -> c, s -> T, c -> l\n",
      "\t3. [ HM M2 MH ]\n",
      "\t\tDefining factors:\n",
      "\t\t(1-1) +u -> l\n",
      "\t\t(1-2) +u -> l, s -> +u\n",
      "\t\t(2-1) T -> +u, T -> c, c -> l\n",
      "\t\t(2-2) T -> +u, T -> c, s -> T, c -> l\n",
      "\t4. [ L LM ML ]\n",
      "\t\tDefining factors:\n",
      "\t\t(1-1) -u -> l\n",
      "\t\t(1-2) -u -> l, s -> -u\n",
      "\t\t(2-1) T -> -u, T -> c, c -> l\n",
      "\t\t(2-2) T -> -u, T -> c, s -> T, c -> l\n",
      "\t5. [ H HM L LM M1 M2 MH ML ]\n",
      "\t\tDefining factors:\n",
      "\t\t(1-1) s\n",
      "\t\t(2-1) T\n",
      "\t\t(2-2) s\n",
      "\t\t(2-3) c\n",
      "\t\t(2-4) s -> T\n",
      "\t\t(2-5) T -> c\n",
      "\t\t(2-6) T -> c, s -> T\n",
      "\t6. [ LM ML ]\n",
      "\t\tDefining factors:\n",
      "\t\t(1-1) -u -> h, -u -> l\n",
      "\t\t(1-2) -u -> h, -u -> l, s -> -u\n",
      "\t\t(2-1) T -> c, T -> -u, c -> h, c -> l\n",
      "\t\t(2-2) T -> c, T -> -u, s -> T, c -> h, c -> l\n",
      "\t7. [ H HM LM M1 MH ML ]\n",
      "\t\tDefining factors:\n",
      "\t\t(1-1) h\n",
      "\t\t(2-1) h\n",
      "\t\t(2-2) c -> h\n",
      "\t\t(2-3) T -> c, c -> h\n",
      "\t\t(2-4) T -> c, s -> T, c -> h\n",
      "\t8. [ HM MH ]\n",
      "\t\tDefining factors:\n",
      "\t\t(1-1) +u -> h, +u -> l\n",
      "\t\t(1-2) +u -> h, +u -> l, s -> +u\n",
      "\t\t(2-1) T -> c, T -> +u, c -> l, c -> h\n",
      "\t\t(2-2) T -> c, T -> +u, s -> T, c -> l, c -> h\n",
      "\t9. [ H HM MH ]\n",
      "\t\tDefining factors:\n",
      "\t\t(1-1) +u -> h\n",
      "\t\t(1-2) +u -> h, s -> +u\n",
      "\t\t(2-1) T -> +u, T -> c, c -> h\n",
      "\t\t(2-2) T -> +u, T -> c, s -> T, c -> h\n",
      "\t10. [ H HM M2 MH ]\n",
      "\t\tDefining factors:\n",
      "\t\t(1-1) +u\n",
      "\t\t(1-2) s -> +u\n",
      "\t\t(2-1) +u\n",
      "\t\t(2-2) T -> +u\n",
      "\t\t(2-3) T -> +u, s -> T\n",
      "\t\t(2-4) T -> +u, T -> c\n",
      "\t\t(2-5) T -> +u, T -> c, s -> T\n",
      "\t11. [ L LM M1 ML ]\n",
      "\t\tDefining factors:\n",
      "\t\t(1-1) -u\n",
      "\t\t(1-2) s -> -u\n",
      "\t\t(2-1) -u\n",
      "\t\t(2-2) T -> -u\n",
      "\t\t(2-3) T -> -u, s -> T\n",
      "\t\t(2-4) T -> -u, T -> c\n",
      "\t\t(2-5) T -> -u, T -> c, s -> T\n"
     ]
    }
   ],
   "source": [
    "report = ax.Comparison([yip_x,bao_x])\n",
    "report.results(verbose=2)"
   ]
  },
  {
   "cell_type": "code",
   "execution_count": 5,
   "metadata": {},
   "outputs": [
    {
     "data": {
      "image/png": "[encoded data removed]",
      "text/plain": [
       "<Figure size 640x480 with 1 Axes>"
      ]
     },
     "metadata": {},
     "output_type": "display_data"
    }
   ],
   "source": [
    "yip_x.segments['ML'].draw_phono()"
   ]
  }
 ],
 "metadata": {
  "interpreter": {
   "hash": "7b132fd4c9a3d0cc580de80730285d7b7a4c92d50566a619762581c11d4b6714"
  },
  "kernelspec": {
   "display_name": "Python 3.11.0 64-bit",
   "name": "python3"
  },
  "language_info": {
   "codemirror_mode": {
    "name": "ipython",
    "version": 3
   },
   "file_extension": ".py",
   "mimetype": "text/x-python",
   "name": "python",
   "nbconvert_exporter": "python",
   "pygments_lexer": "ipython3",
   "version": "3.12.0"
  },
  "orig_nbformat": 4
 },
 "nbformat": 4,
 "nbformat_minor": 2
}
