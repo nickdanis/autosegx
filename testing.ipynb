{
 "cells": [
  {
   "cell_type": "code",
   "execution_count": 1,
   "source": [
    "import networkx as nx\r\n",
    "import autosegx as ax\r\n",
    "import re\r\n",
    "from itertools import chain\r\n",
    "# import matplotlib.pyplot as plt\r\n",
    "\r\n",
    "from networkx.algorithms.regular import k_factor"
   ],
   "outputs": [],
   "metadata": {}
  },
  {
   "cell_type": "code",
   "execution_count": 2,
   "source": [
    "yip = {\r\n",
    "    'L' : {('s','-u'), ('-u','l')},\r\n",
    "    'H' : {('s','+u'), ('+u','h')},\r\n",
    "    'M1' : {('s','-u'), ('-u','h')},\r\n",
    "    'M2' : {('s','+u'), ('+u','l')},\r\n",
    "    'HM' : {('s','+u'), ('+u','h'), ('+u','l')},\r\n",
    "    'MH' : {('s','+u'), ('+u','l'), ('+u','h')},\r\n",
    "    'ML' : {('s','-u'), ('-u','l'), ('-u','h')},\r\n",
    "    'LM' : {('s','-u'), ('-u','l'), ('-u','h')}\r\n",
    "}\r\n",
    "\r\n",
    "bao = {\r\n",
    "    'L' : {('s','T'), ('T','-u'), ('T','c'), ('c','l')},\r\n",
    "    'H' : {('s','T'), ('T','+u'), ('T','c'), ('c','h')},\r\n",
    "    'M1' : {('s','T'), ('T','-u'), ('T','c'), ('c','h')},\r\n",
    "    'M2' : {('s','T'), ('T','+u'), ('T','c'), ('c','l')},\r\n",
    "    'HM' : {('s','T'), ('T','+u'), ('T','c'), ('c','h'), ('c','l')},\r\n",
    "    'MH' : {('s','T'), ('T','+u'), ('T','c'), ('c','h'), ('c','l')},\r\n",
    "    'ML' : {('s','T'), ('T','-u'), ('T','c'), ('c','h'), ('c','l')},\r\n",
    "    'LM' : {('s','T'), ('T','-u'), ('T','c'), ('c','h'), ('c','l')},\r\n",
    "}"
   ],
   "outputs": [],
   "metadata": {}
  },
  {
   "cell_type": "code",
   "execution_count": 6,
   "source": [
    "yip_nx = anx.Theory(yip)\r\n",
    "bao_nx = anx.Theory(bao)\r\n",
    "\r\n",
    "ax.compare_theories(yip_nx, bao_nx, verbose=3)\r\n",
    "\r\n"
   ],
   "outputs": [
    {
     "output_type": "stream",
     "name": "stdout",
     "text": [
      "The theories are NOT natural class preserving\n",
      "nat. classes    T1        T2    \n",
      "      unique    0         1     \n",
      "      shared    11        11    \n",
      "       total    11        12    \n",
      "Natural classes unique to T2:\n",
      "\t ('HM', 'LM', 'MH', 'ML')\n",
      "\t\t [('c', 'h'), ('c', 'l')]\n",
      "\t\t [('T', 'c'), ('c', 'h'), ('c', 'l')]\n",
      "\t\t [('s', 'T'), ('T', 'c'), ('c', 'h'), ('c', 'l')]\n"
     ]
    },
    {
     "output_type": "execute_result",
     "data": {
      "text/plain": [
       "False"
      ]
     },
     "metadata": {},
     "execution_count": 6
    }
   ],
   "metadata": {}
  },
  {
   "cell_type": "code",
   "execution_count": null,
   "source": [
    "yip_nx.natural_classes\r\n",
    "\r\n"
   ],
   "outputs": [],
   "metadata": {}
  },
  {
   "cell_type": "code",
   "execution_count": null,
   "source": [
    "for i, (geo, segs) in enumerate(yip_nx.natural_classes().items()):\r\n",
    "    print(i, geo)"
   ],
   "outputs": [],
   "metadata": {}
  },
  {
   "cell_type": "markdown",
   "source": [
    "https://networkx.org/documentation/stable/reference/algorithms/generated/networkx.algorithms.regular.k_factor.html#k-factor"
   ],
   "metadata": {}
  },
  {
   "cell_type": "code",
   "execution_count": null,
   "source": [
    "k_factor(test_geo.to_undirected(),1)"
   ],
   "outputs": [],
   "metadata": {}
  },
  {
   "cell_type": "code",
   "execution_count": null,
   "source": [
    "for i, (fac, segs) in enumerate(yip_nx.natural_classes().items()):\r\n",
    "    plt.figure(i)\r\n",
    "    plt.title(segs)\r\n",
    "    fac.draw_phono()\r\n",
    "\r\n",
    "plt.show()"
   ],
   "outputs": [],
   "metadata": {}
  },
  {
   "cell_type": "code",
   "execution_count": null,
   "source": [
    "for segs, fac_list in list(yip_nx.nce().items())[:1]:\r\n",
    "    plt.title(segs)\r\n",
    "    for i, fac in enumerate(fac_list):\r\n",
    "        print(len(fac_list))\r\n",
    "        if i < 5:\r\n",
    "            plt.figure(i)\r\n",
    "            fac.draw_phono()\r\n",
    "    plt.show()"
   ],
   "outputs": [],
   "metadata": {}
  },
  {
   "cell_type": "code",
   "execution_count": null,
   "source": [
    "yip_nx.nce\r\n"
   ],
   "outputs": [],
   "metadata": {}
  },
  {
   "cell_type": "code",
   "execution_count": null,
   "source": [
    "for i, nat in list(enumerate(yip_nx.nce.items())):\r\n",
    "    print(i, nat[0])\r\n",
    "    for seg in nat[1]:\r\n",
    "        print(\"\\t\",seg)\r\n"
   ],
   "outputs": [],
   "metadata": {}
  },
  {
   "cell_type": "code",
   "execution_count": null,
   "source": [
    "bao_nx = ax.Theory()"
   ],
   "outputs": [],
   "metadata": {}
  },
  {
   "cell_type": "code",
   "execution_count": null,
   "source": [
    "yip_nx.nodes"
   ],
   "outputs": [],
   "metadata": {}
  },
  {
   "cell_type": "code",
   "execution_count": null,
   "source": [
    "yip_nx.segments['H'].factors()[5]"
   ],
   "outputs": [],
   "metadata": {}
  },
  {
   "cell_type": "code",
   "execution_count": null,
   "source": [
    "rep = {('rt','Cpl'), ('Cpl','+lab'), ('Cpl','-dors'), ('Cpl','-cor'), ('rt','Vpl'), ('Vpl','-lab2'), ('Vpl','-dors2'), ('Vpl','-cor2')}\r\n",
    "\r\n",
    "p.create_geometry(rep)"
   ],
   "outputs": [],
   "metadata": {}
  },
  {
   "cell_type": "code",
   "execution_count": null,
   "source": [
    "p.nodes(data=True)"
   ],
   "outputs": [],
   "metadata": {}
  },
  {
   "cell_type": "code",
   "execution_count": null,
   "source": [
    "unified(raw_edges = rep)"
   ],
   "outputs": [],
   "metadata": {}
  },
  {
   "cell_type": "code",
   "execution_count": null,
   "source": [
    "dir(ax.nx.DiGraph())"
   ],
   "outputs": [],
   "metadata": {}
  },
  {
   "cell_type": "code",
   "execution_count": null,
   "source": [],
   "outputs": [],
   "metadata": {}
  }
 ],
 "metadata": {
  "orig_nbformat": 4,
  "language_info": {
   "name": "python",
   "version": "3.11.0",
   "mimetype": "text/x-python",
   "codemirror_mode": {
    "name": "ipython",
    "version": 3
   },
   "pygments_lexer": "ipython3",
   "nbconvert_exporter": "python",
   "file_extension": ".py"
  },
  "kernelspec": {
   "name": "python3",
   "display_name": "Python 3.11.0 64-bit"
  },
  "interpreter": {
   "hash": "7b132fd4c9a3d0cc580de80730285d7b7a4c92d50566a619762581c11d4b6714"
  }
 },
 "nbformat": 4,
 "nbformat_minor": 2
}